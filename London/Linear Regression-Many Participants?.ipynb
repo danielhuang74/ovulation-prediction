{
 "cells": [
  {
   "cell_type": "code",
   "execution_count": 1,
   "metadata": {
    "collapsed": false
   },
   "outputs": [
    {
     "name": "stderr",
     "output_type": "stream",
     "text": [
      "/home/daniel/miniconda3/lib/python3.5/site-packages/IPython/html.py:14: ShimWarning: The `IPython.html` package has been deprecated. You should import from `notebook` instead. `IPython.html.widgets` has moved to `ipywidgets`.\n",
      "  \"`IPython.html.widgets` has moved to `ipywidgets`.\", ShimWarning)\n"
     ]
    }
   ],
   "source": [
    "import pandas as pd\n",
    "import numpy as np\n",
    "import sklearn\n",
    "import matplotlib.pyplot as plt\n",
    "import daniel_utils as du\n",
    "from pandas import *\n",
    "from sklearn.linear_model import LinearRegression, Ridge, Lasso\n",
    "from sklearn import svm\n",
    "from sklearn.preprocessing import Imputer\n",
    "from sklearn.metrics import r2_score\n",
    "from sklearn.cross_validation import KFold\n",
    "from sklearn.tree import DecisionTreeRegressor\n",
    "from sklearn.ensemble import RandomForestRegressor\n",
    "\n",
    "%load_ext autoreload\n",
    "%autoreload 2\n",
    "%matplotlib inline"
   ]
  },
  {
   "cell_type": "code",
   "execution_count": 2,
   "metadata": {
    "collapsed": false
   },
   "outputs": [],
   "source": [
    "# Import data\n",
    "\n",
    "df = read_csv(filepath_or_buffer=\"csv/london.csv\", header=0)\n",
    "\n",
    "df = du.process_df(df)"
   ]
  },
  {
   "cell_type": "code",
   "execution_count": 3,
   "metadata": {
    "collapsed": false
   },
   "outputs": [],
   "source": [
    "y = df['L_PREOVULATION'].values"
   ]
  },
  {
   "cell_type": "code",
   "execution_count": 4,
   "metadata": {
    "collapsed": false
   },
   "outputs": [],
   "source": [
    "# test_fold = []\n",
    "# fold_index = 0\n",
    "\n",
    "# current_id = df.at[0, 'ID']\n",
    "# for index, row in df.iterrows():\n",
    "#     if(row['ID'] != current_id):\n",
    "#         fold_index+=1\n",
    "#         current_id = row['ID']\n",
    "#     test_fold.append(fold_index)\n",
    "    \n",
    "# #print(len(test_fold))\n",
    "# #print(test_fold)\n"
   ]
  },
  {
   "cell_type": "code",
   "execution_count": 5,
   "metadata": {
    "collapsed": false
   },
   "outputs": [
    {
     "data": {
      "text/plain": [
       "5.0     10906\n",
       "6.0      7507\n",
       "4.0      4636\n",
       "7.0      2821\n",
       "3.0      1281\n",
       "8.0       713\n",
       "2.0       185\n",
       "9.0       178\n",
       "10.0       51\n",
       "11.0       30\n",
       "12.0       12\n",
       "13.0       10\n",
       "14.0        8\n",
       "1.0         7\n",
       "16.0        4\n",
       "22.0        2\n",
       "15.0        2\n",
       "19.0        2\n",
       "18.0        1\n",
       "23.0        1\n",
       "Name: L_PERIOD, dtype: int64"
      ]
     },
     "execution_count": 5,
     "metadata": {},
     "output_type": "execute_result"
    }
   ],
   "source": [
    "df['L_PERIOD'].value_counts()"
   ]
  },
  {
   "cell_type": "code",
   "execution_count": 6,
   "metadata": {
    "collapsed": false
   },
   "outputs": [
    {
     "data": {
      "text/plain": [
       "10"
      ]
     },
     "execution_count": 6,
     "metadata": {},
     "output_type": "execute_result"
    }
   ],
   "source": [
    "kf = KFold(len(y), n_folds = 10)\n",
    "len(kf)"
   ]
  },
  {
   "cell_type": "code",
   "execution_count": 7,
   "metadata": {
    "collapsed": false
   },
   "outputs": [],
   "source": [
    "# drop all non-feature columns\n",
    "df = df.drop({'ID', 'GROUP_ID', 'CYCLE_ID', 'BIRTH_YR', 'BEGIN_DATE', 'N_GROUPS', 'N_CYCLES', 'DESC', 'TEMP_SCALE', 'CHILDREN'}, axis = 1)\n",
    "X = df.drop({'L_CYCLE', 'L_PREOVULATION', 'L_PERIOD'}, axis = 1)\n"
   ]
  },
  {
   "cell_type": "code",
   "execution_count": null,
   "metadata": {
    "collapsed": true
   },
   "outputs": [],
   "source": []
  },
  {
   "cell_type": "markdown",
   "metadata": {},
   "source": [
    "Find the number of days of the longest cycle in the group. Drop all the temperature columns that are after that max number of days."
   ]
  },
  {
   "cell_type": "code",
   "execution_count": 8,
   "metadata": {
    "collapsed": false
   },
   "outputs": [],
   "source": [
    "max_l_cycle = int(df['L_CYCLE'].max())\n",
    "for i in range(max_l_cycle + 1, 100):\n",
    "    df = df.drop('TEMP' + str(i), axis = 1)"
   ]
  },
  {
   "cell_type": "code",
   "execution_count": 9,
   "metadata": {
    "collapsed": true
   },
   "outputs": [],
   "source": [
    "df.to_csv('csv/temp.csv')"
   ]
  },
  {
   "cell_type": "markdown",
   "metadata": {},
   "source": [
    "Missing values - either fill with zero or impute data"
   ]
  },
  {
   "cell_type": "code",
   "execution_count": 10,
   "metadata": {
    "collapsed": false
   },
   "outputs": [],
   "source": [
    "# impute missing data\n",
    "imp = Imputer(missing_values='NaN', strategy='median', axis=0)\n",
    "X = imp.fit_transform(X)\n"
   ]
  },
  {
   "cell_type": "code",
   "execution_count": 11,
   "metadata": {
    "collapsed": false
   },
   "outputs": [],
   "source": [
    "from sklearn.cross_validation import PredefinedSplit, cross_val_predict\n",
    "\n",
    "#originally I was using PredefinedSplit\n",
    "#ps = PredefinedSplit(test_fold)\n",
    "\n",
    "#yhat = cross_val_predict(LinearRegression(), X,y=y,cv=kf) # yhat is the predicted values\n",
    "# for train_index, test_index in ps:\n",
    "#     #print(\"TRAIN:\", train_index, \"TEST:\", test_index)\n",
    "#     X_train, X_test = X[train_index], X[test_index]\n",
    "#     y_train, y_test = y[train_index], y[test_index]\n",
    "#     print(len(y_train), len(y_test))\n",
    "#     model = LinearRegression()\n",
    "#     model.fit(X_train, y_train)\n",
    "#     print(model.score(X_test, y_test))"
   ]
  },
  {
   "cell_type": "code",
   "execution_count": 13,
   "metadata": {
    "collapsed": true
   },
   "outputs": [],
   "source": [
    "def yhat_process(yhat):\n",
    "    yhat[yhat<0]=0\n",
    "    yhat[yhat>50]=50\n",
    "    return yhat"
   ]
  },
  {
   "cell_type": "code",
   "execution_count": 14,
   "metadata": {
    "collapsed": false
   },
   "outputs": [],
   "source": [
    "yhat_lr = cross_val_predict(LinearRegression(), X,y=y,cv=kf)\n",
    "yhat_lr = yhat_process(yhat_lr)\n",
    "\n",
    "yhat_ridge = cross_val_predict(Ridge(), X,y=y,cv=kf)\n",
    "yhat_ridge = yhat_process(yhat_ridge)\n",
    "\n",
    "\n",
    "yhat_lasso = cross_val_predict(Lasso(), X,y=y,cv=kf)\n",
    "yhat_lasso = yhat_process(yhat_lasso)\n",
    "\n",
    "\n",
    "\n",
    "#plt.plot(yhat,y,'.')\n",
    "\n",
    "# compares yhat(predicted) with y(actual)"
   ]
  },
  {
   "cell_type": "code",
   "execution_count": 37,
   "metadata": {
    "collapsed": true
   },
   "outputs": [],
   "source": [
    "yhat_rf = cross_val_predict(RandomForestRegressor(n_estimators=5), X,y=y,cv=kf)\n",
    "yhat_rf = yhat_process(yhat_rf)"
   ]
  },
  {
   "cell_type": "code",
   "execution_count": 38,
   "metadata": {
    "collapsed": false
   },
   "outputs": [
    {
     "name": "stdout",
     "output_type": "stream",
     "text": [
      "Linear Regression STD: 3.41036164681 Median:  0.26318359375\n",
      "Ridge STD: 3.36738670657 Median:  0.263861146368\n",
      "Lasso STD: 3.44618615727 Median:  0.369928157639\n",
      "Random Forest STD: 2.33115008185 Median:  0.0\n"
     ]
    },
    {
     "data": {
      "image/png": "[encoded data removed]",
      "text/plain": [
       "<matplotlib.figure.Figure at 0x7fba073bde10>"
      ]
     },
     "metadata": {},
     "output_type": "display_data"
    }
   ],
   "source": [
    "# residuals\n",
    "\n",
    "#plt.scatter(yhat, yhat-y)\n",
    "data = [yhat_lr-y, yhat_ridge-y, yhat_lasso-y, yhat_rf-y]\n",
    "plt.boxplot(data, showfliers=False, labels=('Linear Regression', 'Ridge', 'Lasso', 'Random Forest'))\n",
    "\n",
    "print('Linear Regression STD:', data[0].std(), 'Median: ', np.median(data[0]))\n",
    "print('Ridge STD:', data[1].std(), 'Median: ', np.median(data[1]))\n",
    "print('Lasso STD:', data[2].std(), 'Median: ', np.median(data[2]))\n",
    "print('Random Forest STD:', data[3].std(), 'Median: ', np.median(data[3]))"
   ]
  },
  {
   "cell_type": "code",
   "execution_count": null,
   "metadata": {
    "collapsed": true
   },
   "outputs": [],
   "source": []
  }
 ],
 "metadata": {
  "kernelspec": {
   "display_name": "Python 3",
   "language": "python",
   "name": "python3"
  },
  "language_info": {
   "codemirror_mode": {
    "name": "ipython",
    "version": 3
   },
   "file_extension": ".py",
   "mimetype": "text/x-python",
   "name": "python",
   "nbconvert_exporter": "python",
   "pygments_lexer": "ipython3",
   "version": "3.5.1"
  }
 },
 "nbformat": 4,
 "nbformat_minor": 0
}
