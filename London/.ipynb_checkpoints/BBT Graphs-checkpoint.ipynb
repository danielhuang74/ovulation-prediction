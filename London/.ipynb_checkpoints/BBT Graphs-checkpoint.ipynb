{
 "cells": [
  {
   "cell_type": "code",
   "execution_count": 2,
   "metadata": {
    "collapsed": false
   },
   "outputs": [
    {
     "name": "stderr",
     "output_type": "stream",
     "text": [
      "/home/daniel/miniconda3/lib/python3.5/site-packages/IPython/html.py:14: ShimWarning: The `IPython.html` package has been deprecated. You should import from `notebook` instead. `IPython.html.widgets` has moved to `ipywidgets`.\n",
      "  \"`IPython.html.widgets` has moved to `ipywidgets`.\", ShimWarning)\n"
     ]
    }
   ],
   "source": [
    "from pandas import read_csv\n",
    "import pandas as pd\n",
    "from pandas import *\n",
    "import matplotlib.pyplot as plt\n",
    "import seaborn as sns\n",
    "df = read_csv(\"csv/london.csv\")"
   ]
  },
  {
   "cell_type": "markdown",
   "metadata": {},
   "source": [
    "After importing the data, we need to get rid of the cycles (rows) where the L_PREOV is 0, because this data is unusable. After these rows are dropped, there are holes created in the index of the data frame.\n",
    "\n",
    "Ex: If row 100 is deleted, then the index would be (...98, 99, 101, 102...)\n",
    "\n",
    "We would like the index numbers to be consecutive so we must use the `reset_index` function"
   ]
  },
  {
   "cell_type": "code",
   "execution_count": 3,
   "metadata": {
    "collapsed": false
   },
   "outputs": [],
   "source": [
    "# Slow method of dropping rows:\n",
    "\"\"\"\n",
    "i=0\n",
    "for index, row in df.iterrows():\n",
    "    if row['L_PREOV'] == 0:\n",
    "        #print(row)\n",
    "        df.drop(index, inplace=True)\n",
    "        i+=1\n",
    "print(str(i)+\" rows dropped\")\n",
    "\"\"\"\n",
    "# Faster method:\n",
    "df = df[df['L_PREOV']!=0]\n",
    "\n",
    "#Re-index:\n",
    "df = df.reset_index(drop=True)\n",
    "\n"
   ]
  },
  {
   "cell_type": "code",
   "execution_count": 4,
   "metadata": {
    "collapsed": false
   },
   "outputs": [],
   "source": [
    "def get_cycle(df, cycle_index):\n",
    "    d = {}\n",
    "    for i in range(1, df['L_CICLO'][cycle_index]+1):\n",
    "        d[i]=df['TEMP'+str(i)][cycle_index]\n",
    "    dfcycle = DataFrame(list(d.items()), columns=['day', 'BBT'])\n",
    "    return dfcycle\n"
   ]
  },
  {
   "cell_type": "code",
   "execution_count": null,
   "metadata": {
    "collapsed": false
   },
   "outputs": [],
   "source": []
  },
  {
   "cell_type": "code",
   "execution_count": 5,
   "metadata": {
    "collapsed": false
   },
   "outputs": [
    {
     "name": "stdout",
     "output_type": "stream",
     "text": [
      "<class 'pandas.core.frame.DataFrame'>\n",
      "RangeIndex: 29463 entries, 0 to 29462\n",
      "Columns: 112 entries, DONNA to FIGLI\n",
      "dtypes: int64(111), object(1)\n",
      "memory usage: 25.2+ MB\n"
     ]
    }
   ],
   "source": [
    "df.info()"
   ]
  },
  {
   "cell_type": "code",
   "execution_count": 6,
   "metadata": {
    "collapsed": true
   },
   "outputs": [],
   "source": [
    "%matplotlib inline"
   ]
  },
  {
   "cell_type": "code",
   "execution_count": 7,
   "metadata": {
    "collapsed": false
   },
   "outputs": [],
   "source": [
    "def plot_cycle(df_cycle, cycle_index, l_period, l_preov):\n",
    "    df_cycle.plot(kind='line', x='day', y='BBT')\n",
    "    \n",
    "    plt.axvline(l_period, color='red')\n",
    "    plt.axvline(l_preov, color='green')\n",
    "    plt.savefig('figs/' + str(cycle_index) + '.png')  # write image to file.. filename+2=row in csv file\n",
    "    plt.cla()"
   ]
  },
  {
   "cell_type": "code",
   "execution_count": 8,
   "metadata": {
    "collapsed": false
   },
   "outputs": [],
   "source": [
    "# GENERATE THE 36k plots\n",
    "# num_cycles = len(df.index)\n",
    "# for x in range(0, num_cycles):\n",
    "#     cycle_index = x;\n",
    "#     l_period = df['L_PERIOD'][cycle_index]\n",
    "#     l_preov = df['L_PREOV'][cycle_index]\n",
    "#     plot_cycle(get_cycle(df, cycle_index), cycle_index, l_period, l_preov)"
   ]
  },
  {
   "cell_type": "code",
   "execution_count": 9,
   "metadata": {
    "collapsed": true
   },
   "outputs": [],
   "source": [
    "df.to_csv(\"london_sub.csv\", sep='\\t')"
   ]
  },
  {
   "cell_type": "code",
   "execution_count": 11,
   "metadata": {
    "collapsed": false
   },
   "outputs": [
    {
     "data": {
      "image/png": "[encoded data removed]",
      "text/plain": [
       "<matplotlib.figure.Figure at 0x7fd669495400>"
      ]
     },
     "metadata": {},
     "output_type": "display_data"
    }
   ],
   "source": [
    "cycle_index = 0\n",
    "l_period = df['L_PERIOD'][cycle_index]\n",
    "l_preov = df['L_PREOV'][cycle_index]\n",
    "    \n",
    "plot_cycle(get_cycle(df, cycle_index), cycle_index, l_period, l_preov)"
   ]
  },
  {
   "cell_type": "code",
   "execution_count": null,
   "metadata": {
    "collapsed": false
   },
   "outputs": [],
   "source": [
    "# Generate 10 random plots\n",
    "from random import randint\n",
    "\n",
    "for x in range(0, 10):\n",
    "    \n",
    "    \n",
    "    cycle_index = randint(0, len(df) - 1)\n",
    "    print(cycle_index)\n",
    "    l_period = df['L_PERIOD'][cycle_index]\n",
    "    l_preov = df['L_PREOV'][cycle_index]\n",
    "    \n",
    "    plot_cycle(get_cycle(df, cycle_index), cycle_index, l_period, l_preov)\n",
    "    "
   ]
  },
  {
   "cell_type": "code",
   "execution_count": null,
   "metadata": {
    "collapsed": false
   },
   "outputs": [],
   "source": []
  }
 ],
 "metadata": {
  "kernelspec": {
   "display_name": "Python 3",
   "language": "python",
   "name": "python3"
  },
  "language_info": {
   "codemirror_mode": {
    "name": "ipython",
    "version": 3
   },
   "file_extension": ".py",
   "mimetype": "text/x-python",
   "name": "python",
   "nbconvert_exporter": "python",
   "pygments_lexer": "ipython3",
   "version": "3.5.1"
  }
 },
 "nbformat": 4,
 "nbformat_minor": 0
}
