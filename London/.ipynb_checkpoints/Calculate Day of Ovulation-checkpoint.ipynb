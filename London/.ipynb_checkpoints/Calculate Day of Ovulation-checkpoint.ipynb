{
 "cells": [
  {
   "cell_type": "code",
   "execution_count": 2,
   "metadata": {
    "collapsed": false
   },
   "outputs": [
    {
     "name": "stdout",
     "output_type": "stream",
     "text": [
      "The autoreload extension is already loaded. To reload it, use:\n",
      "  %reload_ext autoreload\n"
     ]
    }
   ],
   "source": [
    "from pandas import *\n",
    "import numpy as np\n",
    "import daniel_utils as du\n",
    "%load_ext autoreload\n",
    "%autoreload 2"
   ]
  },
  {
   "cell_type": "code",
   "execution_count": null,
   "metadata": {
    "collapsed": false
   },
   "outputs": [],
   "source": [
    "df = read_csv('csv/london.csv')\n",
    "df = du.process_df(df)\n",
    "for h in range(0, len(df) - 1):\n",
    "#for h in range(0, 1):\n",
    "    length_preov = 0\n",
    "    for i in range(1, 91):\n",
    "        six_days = []\n",
    "        three_days = []\n",
    "        for j in range(0, 6):\n",
    "            six_days.append(df['TEMP'+str(i+j)][h])\n",
    "        for k in range(6, 9):\n",
    "            three_days.append(df['TEMP'+str(i+k)][h])\n",
    "        if max(six_days) < min(three_days):\n",
    "            length_preov = i + 5\n",
    "            break\n",
    "if(str(length_preov) != str(int(df['L_PREOVULATION'][h]))):\n",
    "    print('!')"
   ]
  }
 ],
 "metadata": {
  "kernelspec": {
   "display_name": "Python 3",
   "language": "python",
   "name": "python3"
  },
  "language_info": {
   "codemirror_mode": {
    "name": "ipython",
    "version": 3
   },
   "file_extension": ".py",
   "mimetype": "text/x-python",
   "name": "python",
   "nbconvert_exporter": "python",
   "pygments_lexer": "ipython3",
   "version": "3.5.1"
  }
 },
 "nbformat": 4,
 "nbformat_minor": 0
}
