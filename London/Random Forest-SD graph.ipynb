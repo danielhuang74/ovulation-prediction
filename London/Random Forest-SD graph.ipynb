{
 "cells": [
  {
   "cell_type": "code",
   "execution_count": 9,
   "metadata": {
    "collapsed": false
   },
   "outputs": [
    {
     "name": "stdout",
     "output_type": "stream",
     "text": [
      "The autoreload extension is already loaded. To reload it, use:\n",
      "  %reload_ext autoreload\n"
     ]
    }
   ],
   "source": [
    "# http://scikit-learn.org/stable/auto_examples/ensemble/plot_ensemble_oob.html\n",
    "import matplotlib.pyplot as plt\n",
    "\n",
    "from collections import OrderedDict\n",
    "from sklearn.datasets import make_classification\n",
    "from sklearn.ensemble import RandomForestRegressor\n",
    "import daniel_utils as du\n",
    "from pandas import *\n",
    "import numpy as np\n",
    "from sklearn.preprocessing import Imputer\n",
    "from sklearn.cross_validation import cross_val_predict\n",
    "from sklearn.cross_validation import KFold\n",
    "\n",
    "\n",
    "%load_ext autoreload\n",
    "%autoreload 2\n",
    "%matplotlib inline"
   ]
  },
  {
   "cell_type": "code",
   "execution_count": 10,
   "metadata": {
    "collapsed": false
   },
   "outputs": [],
   "source": [
    "# Import data\n",
    "\n",
    "df = read_csv(filepath_or_buffer=\"csv/london.csv\", header=0)\n",
    "\n",
    "df = du.process_df(df)"
   ]
  },
  {
   "cell_type": "code",
   "execution_count": 11,
   "metadata": {
    "collapsed": true
   },
   "outputs": [],
   "source": [
    "RANDOM_STATE = 123\n",
    "\n",
    "y = df['L_PREOVULATION'].values\n",
    "\n",
    "df = df.drop({'ID', 'GROUP_ID', 'CYCLE_ID', 'BIRTH_YR', 'BEGIN_DATE', 'N_GROUPS', 'N_CYCLES', 'DESC', 'TEMP_SCALE', 'CHILDREN'}, axis = 1)\n",
    "X = df.drop({'L_CYCLE', 'L_PREOVULATION', 'L_PERIOD'}, axis = 1)\n",
    "\n",
    "# # Generate a binary classification dataset.\n",
    "# X, y = make_classification(n_samples=500, n_features=25,\n",
    "#                            n_clusters_per_class=1, n_informative=15,\n",
    "#                            random_state=RANDOM_STATE)"
   ]
  },
  {
   "cell_type": "code",
   "execution_count": 12,
   "metadata": {
    "collapsed": false
   },
   "outputs": [],
   "source": [
    "# impute missing data\n",
    "imp = Imputer(missing_values='NaN', strategy='median', axis=0)\n",
    "X = imp.fit_transform(X)"
   ]
  },
  {
   "cell_type": "code",
   "execution_count": 13,
   "metadata": {
    "collapsed": true
   },
   "outputs": [],
   "source": [
    "def yhat_process(yhat):\n",
    "    yhat[yhat<0]=0\n",
    "    yhat[yhat>50]=50\n",
    "    return yhat"
   ]
  },
  {
   "cell_type": "code",
   "execution_count": 14,
   "metadata": {
    "collapsed": true
   },
   "outputs": [],
   "source": [
    "kf = KFold(len(y), n_folds = 10)\n"
   ]
  },
  {
   "cell_type": "code",
   "execution_count": 15,
   "metadata": {
    "collapsed": true
   },
   "outputs": [],
   "source": [
    "data = []"
   ]
  },
  {
   "cell_type": "code",
   "execution_count": 16,
   "metadata": {
    "collapsed": false
   },
   "outputs": [
    {
     "name": "stdout",
     "output_type": "stream",
     "text": [
      "20\n",
      "25\n",
      "30\n",
      "35\n",
      "40\n",
      "45\n",
      "50\n",
      "55\n",
      "60\n",
      "65\n",
      "70\n",
      "75\n"
     ]
    }
   ],
   "source": [
    "for i in range(20, 80):\n",
    "    yhat_rf = cross_val_predict(RandomForestRegressor(n_estimators=i), X,y=y, cv=kf)\n",
    "    yhat_rf = yhat_process(yhat_rf)\n",
    "    data.append((yhat_rf-y).std())\n",
    "    if(i%5==0):\n",
    "        print(i)"
   ]
  },
  {
   "cell_type": "code",
   "execution_count": 18,
   "metadata": {
    "collapsed": false
   },
   "outputs": [
    {
     "data": {
      "text/plain": [
       "[2.1560347291619273,\n",
       " 2.1422075794861963,\n",
       " 2.1435216066812868,\n",
       " 2.1429300466114709,\n",
       " 2.1392153290809204,\n",
       " 2.1421172090970928,\n",
       " 2.1382293475385863,\n",
       " 2.1327651158106327,\n",
       " 2.1349884050049743,\n",
       " 2.1314147297955834,\n",
       " 2.1313640303990731,\n",
       " 2.1286345524952535,\n",
       " 2.1222875078944852,\n",
       " 2.1329581300847327,\n",
       " 2.1244372070044957,\n",
       " 2.1173577805602548,\n",
       " 2.1308455987742998,\n",
       " 2.1172662270510947,\n",
       " 2.1246554756079234,\n",
       " 2.1288000539318945,\n",
       " 2.1165207318776273,\n",
       " 2.1236194218566156,\n",
       " 2.113320264159674,\n",
       " 2.1215650338630634,\n",
       " 2.1220949250351566,\n",
       " 2.1291197990632194,\n",
       " 2.1146817545196552,\n",
       " 2.1153491305135637,\n",
       " 2.1116532198334221,\n",
       " 2.1170417039987632,\n",
       " 2.1279228318694217,\n",
       " 2.1115229436032141,\n",
       " 2.1210365186533853,\n",
       " 2.1121795433830908,\n",
       " 2.1196859073509642,\n",
       " 2.1095472874383137,\n",
       " 2.1113921925812855,\n",
       " 2.1136516916063703,\n",
       " 2.1026926941241029,\n",
       " 2.106775577930688,\n",
       " 2.1119331204370604,\n",
       " 2.1075934990494001,\n",
       " 2.1152978113848588,\n",
       " 2.1104302482282189,\n",
       " 2.1065657438106173,\n",
       " 2.1115185061095456,\n",
       " 2.1077303530697633,\n",
       " 2.1107965405062745,\n",
       " 2.1111710075798498,\n",
       " 2.1166917125515954,\n",
       " 2.1085585015324733,\n",
       " 2.1101087122125302,\n",
       " 2.1091133320613435,\n",
       " 2.1086589964552553,\n",
       " 2.1081594376599275,\n",
       " 2.1049238760635531,\n",
       " 2.1063572970285915,\n",
       " 2.10360771262344,\n",
       " 2.1073941587943801,\n",
       " 2.1077234883061391]"
      ]
     },
     "execution_count": 18,
     "metadata": {},
     "output_type": "execute_result"
    }
   ],
   "source": [
    "data"
   ]
  },
  {
   "cell_type": "code",
   "execution_count": 20,
   "metadata": {
    "collapsed": false
   },
   "outputs": [
    {
     "data": {
      "text/plain": [
       "[<matplotlib.lines.Line2D at 0x7f07761a04a8>]"
      ]
     },
     "execution_count": 20,
     "metadata": {},
     "output_type": "execute_result"
    },
    {
     "data": {
      "image/png": "[encoded data removed]",
      "text/plain": [
       "<matplotlib.figure.Figure at 0x7f0776186d68>"
      ]
     },
     "metadata": {},
     "output_type": "display_data"
    }
   ],
   "source": [
    "plt.plot(data)\n",
    "plt.labels"
   ]
  },
  {
   "cell_type": "code",
   "execution_count": null,
   "metadata": {
    "collapsed": false
   },
   "outputs": [],
   "source": []
  },
  {
   "cell_type": "code",
   "execution_count": null,
   "metadata": {
    "collapsed": true
   },
   "outputs": [],
   "source": []
  }
 ],
 "metadata": {
  "kernelspec": {
   "display_name": "Python 3",
   "language": "python",
   "name": "python3"
  },
  "language_info": {
   "codemirror_mode": {
    "name": "ipython",
    "version": 3
   },
   "file_extension": ".py",
   "mimetype": "text/x-python",
   "name": "python",
   "nbconvert_exporter": "python",
   "pygments_lexer": "ipython3",
   "version": "3.5.1"
  }
 },
 "nbformat": 4,
 "nbformat_minor": 0
}
