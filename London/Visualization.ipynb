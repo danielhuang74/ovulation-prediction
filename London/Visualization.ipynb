{
 "cells": [
  {
   "cell_type": "markdown",
   "metadata": {},
   "source": [
    "# TODO\n",
    "* ~~correlation matrix~~\n",
    "* ~~replace 0 w np.nan~~\n",
    "* ~~diff  btwn calc day of ovulation and entered one~~\n",
    "* ~~graph consecutive cycles~~\n",
    "* ~~rename labels~~\n",
    "* ~~utils file~~"
   ]
  },
  {
   "cell_type": "code",
   "execution_count": 1,
   "metadata": {
    "collapsed": false
   },
   "outputs": [
    {
     "name": "stderr",
     "output_type": "stream",
     "text": [
      "/home/daniel/miniconda3/lib/python3.5/site-packages/IPython/html.py:14: ShimWarning: The `IPython.html` package has been deprecated. You should import from `notebook` instead. `IPython.html.widgets` has moved to `ipywidgets`.\n",
      "  \"`IPython.html.widgets` has moved to `ipywidgets`.\", ShimWarning)\n"
     ]
    }
   ],
   "source": [
    "\n",
    "#import pandas as pd\n",
    "from pandas import *\n",
    "import matplotlib.pyplot as plt\n",
    "import seaborn as sns\n",
    "import numpy as np\n",
    "import daniel_utils as du\n",
    "%load_ext autoreload\n",
    "%autoreload 2\n",
    "\n",
    "df = read_csv(filepath_or_buffer=\"csv/london.csv\", header=0)\n",
    "\n",
    "\n",
    "df = du.zero_to_nan(df)\n",
    "\n",
    "df = df.dropna(subset={'L_PREOV', 'L_PERIOD'})\n",
    "\n",
    "df = du.rename_it_en(df)\n",
    "\n",
    "df = df.reset_index(drop=True)\n",
    "\n"
   ]
  },
  {
   "cell_type": "code",
   "execution_count": null,
   "metadata": {
    "collapsed": false
   },
   "outputs": [],
   "source": []
  },
  {
   "cell_type": "code",
   "execution_count": null,
   "metadata": {
    "collapsed": false
   },
   "outputs": [],
   "source": []
  },
  {
   "cell_type": "code",
   "execution_count": null,
   "metadata": {
    "collapsed": false
   },
   "outputs": [
    {
     "name": "stdout",
     "output_type": "stream",
     "text": [
      "21587\n",
      "26769\n",
      "22729\n",
      "13559\n",
      "23355\n",
      "2287\n",
      "2386\n",
      "26779\n",
      "9122\n",
      "9261\n"
     ]
    }
   ],
   "source": [
    "\n",
    "# Generate a random plot\n",
    "from random import randint\n",
    "\n",
    "for x in range(0, 10):\n",
    "    cycle_index = randint(0, len(df) - 1)\n",
    "    print(cycle_index)\n",
    "    #print(df.columns.values)\n",
    "    l_period = df['L_PERIOD'][cycle_index]\n",
    "    l_preov = df['L_PREOVULATION'][cycle_index]\n",
    "    du.plot_cycle(du.get_cycle_with_bbt(df, cycle_index), cycle_index, l_period, l_preov)\n"
   ]
  },
  {
   "cell_type": "code",
   "execution_count": null,
   "metadata": {
    "collapsed": false
   },
   "outputs": [],
   "source": [
    "#df.info()\n",
    "%matplotlib inline\n",
    "df = df[['L_PREOVULATION', 'L_PERIOD', 'CHILDREN', 'AGE']]\n",
    "scatter_matrix(df, diagonal='hist', figsize=(12, 8))\n"
   ]
  },
  {
   "cell_type": "code",
   "execution_count": null,
   "metadata": {
    "collapsed": false
   },
   "outputs": [],
   "source": [
    "scatter_matrix"
   ]
  }
 ],
 "metadata": {
  "kernelspec": {
   "display_name": "Python 3",
   "language": "python",
   "name": "python3"
  },
  "language_info": {
   "codemirror_mode": {
    "name": "ipython",
    "version": 3
   },
   "file_extension": ".py",
   "mimetype": "text/x-python",
   "name": "python",
   "nbconvert_exporter": "python",
   "pygments_lexer": "ipython3",
   "version": "3.5.1"
  }
 },
 "nbformat": 4,
 "nbformat_minor": 0
}
